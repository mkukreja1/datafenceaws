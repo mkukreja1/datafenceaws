{
	"metadata": {
		"kernelspec": {
			"name": "glue_pyspark",
			"display_name": "Glue PySpark",
			"language": "python"
		},
		"language_info": {
			"name": "Python_Glue_Session",
			"mimetype": "text/x-python",
			"codemirror_mode": {
				"name": "python",
				"version": 3
			},
			"pygments_lexer": "python3",
			"file_extension": ".py"
		}
	},
	"nbformat_minor": 4,
	"nbformat": 4,
	"cells": [
		{
			"cell_type": "markdown",
			"source": "\n# Glue Studio Notebook\nYou are now running a **Glue Studio** notebook; before you can start using your notebook you *must* start an interactive session.\n\n## Available Magics\n|          Magic              |   Type       |                                                                        Description                                                                        |\n|-----------------------------|--------------|-----------------------------------------------------------------------------------------------------------------------------------------------------------|\n| %%configure                 |  Dictionary  |  A json-formatted dictionary consisting of all configuration parameters for a session. Each parameter can be specified here or through individual magics. |\n| %profile                    |  String      |  Specify a profile in your aws configuration to use as the credentials provider.                                                                          |\n| %iam_role                   |  String      |  Specify an IAM role to execute your session with.                                                                                                        |\n| %region                     |  String      |  Specify the AWS region in which to initialize a session.                                                                                                 |\n| %session_id                 |  String      |  Returns the session ID for the running session.                                                                                                          |\n| %connections                |  List        |  Specify a comma separated list of connections to use in the session.                                                                                     |\n| %additional_python_modules  |  List        |  Comma separated list of pip packages, s3 paths or private pip arguments.                                                                                 |\n| %extra_py_files             |  List        |  Comma separated list of additional Python files from S3.                                                                                                 |\n| %extra_jars                 |  List        |  Comma separated list of additional Jars to include in the cluster.                                                                                       |\n| %number_of_workers          |  Integer     |  The number of workers of a defined worker_type that are allocated when a job runs. worker_type must be set too.                                          |\n| %glue_version               |  String      |  The version of Glue to be used by this session. Currently, the only valid options are 2.0 and 3.0 (eg: %glue_version 2.0).                               |\n| %security_config            |  String      |  Define a security configuration to be used with this session.                                                                                            |\n| %sql                        |  String      |  Run SQL code. All lines after the initial %%sql magic will be passed as part of the SQL code.                                                            |\n| %streaming                  |  String      |  Changes the session type to Glue Streaming.                                                                                                              |\n| %etl                        |  String      |  Changes the session type to Glue ETL.                                                                                                                    |\n| %status                     |              |  Returns the status of the current Glue session including its duration, configuration and executing user / role.                                          |\n| %stop_session               |              |  Stops the current session.                                                                                                                               |\n| %list_sessions              |              |  Lists all currently running sessions by name and ID.                                                                                                     |\n| %worker_type                |  String      |  Standard, G.1X, *or* G.2X. number_of_workers must be set too. Default is G.1X.                                                                           |\n| %spark_conf                 |  String      |  Specify custom spark configurations for your session. E.g. %spark_conf spark.serializer=org.apache.spark.serializer.KryoSerializer.                      |",
			"metadata": {
				"editable": false,
				"deletable": false,
				"trusted": true
			}
		},
		{
			"cell_type": "code",
			"source": "# Setup Spark and Glue configurations\n\n%glue_version 3.0\n%spark_conf spark.sql.catalog.spark_catalog=org.apache.spark.sql.delta.catalog.DeltaCatalog\n%spark_conf spark.sql.extensions=io.delta.sql.DeltaSparkSessionExtension\n%number_of_workers 2\n\n%%configure\n{\n  \"--datalake-formats\": \"delta\"\n}",
			"metadata": {
				"trusted": true
			},
			"execution_count": 6,
			"outputs": [
				{
					"name": "stdout",
					"text": "Welcome to the Glue Interactive Sessions Kernel\nFor more information on available magic commands, please type %help in any new cell.\n\nPlease view our Getting Started page to access the most up-to-date information on the Interactive Sessions kernel: https://docs.aws.amazon.com/glue/latest/dg/interactive-sessions.html\nInstalled kernel version: 0.37.0 \nSetting Glue version to: 3.0\nPrevious Spark configuration: None\nSetting new Spark configuration to: spark.sql.catalog.spark_catalog=org.apache.spark.sql.delta.catalog.DeltaCatalog\nPrevious Spark configuration: spark.sql.catalog.spark_catalog=org.apache.spark.sql.delta.catalog.DeltaCatalog\nSetting new Spark configuration to: spark.sql.extensions=io.delta.sql.DeltaSparkSessionExtension\nPrevious number of workers: 5\nSetting new number of workers to: 2\nThe following configurations have been updated: {'--datalake-formats': 'delta'}\n",
					"output_type": "stream"
				}
			]
		},
		{
			"cell_type": "code",
			"source": "# Setup Python and Spark libraries\nimport sys\nfrom awsglue.transforms import *\nfrom pyspark.sql.functions import *\nfrom awsglue.utils import getResolvedOptions\nfrom pyspark.context import SparkContext\nfrom awsglue.context import GlueContext\nfrom awsglue.job import Job\nfrom pyspark.sql import functions as fn\nfrom urllib.request import urlopen\nfrom pyspark.sql.functions import udf\nimport hashlib\nimport urllib.request\nfrom io import StringIO\n\nfrom delta.tables import *\nfrom pyspark.sql.types import StructType, StructField, IntegerType, StringType, array, ArrayType, DateType, TimestampType, FloatType\nimport json\n\nsc = SparkContext.getOrCreate()\nglueContext = GlueContext(sc)\n#spark = glueContext.spark_session\nspark = SparkSession \\\n            .builder \\\n            .config(\"spark.sql.extensions\", \"io.delta.sql.DeltaSparkSessionExtension\") \\\n            .config(\"spark.sql.catalog.spark_catalog\", \"org.apache.spark.sql.delta.catalog.DeltaCatalog\") \\\n            .getOrCreate()\n\njob = Job(glueContext)",
			"metadata": {
				"editable": true,
				"trusted": true
			},
			"execution_count": 1,
			"outputs": [
				{
					"name": "stdout",
					"text": "Authenticating with environment variables and user-defined glue_role_arn: arn:aws:iam::175908995626:role/glue-role\nTrying to create a Glue session for the kernel.\nWorker Type: G.1X\nNumber of Workers: 2\nSession ID: 9ea615dc-f815-473c-a9fd-7b09521be37c\nJob Type: glueetl\nApplying the following default arguments:\n--glue_kernel_version 0.37.0\n--enable-glue-datacatalog true\n--conf spark.sql.extensions=io.delta.sql.DeltaSparkSessionExtension\n--datalake-formats delta\nWaiting for session 9ea615dc-f815-473c-a9fd-7b09521be37c to get into ready status...\nSession 9ea615dc-f815-473c-a9fd-7b09521be37c has been created.\n\n",
					"output_type": "stream"
				}
			]
		},
		{
			"cell_type": "code",
			"source": "# Send arguments to the job\n\nsys.argv+=[\"--S3_BUCKET\", \"aws-analytics-course\"]\nsys.argv+=[\"--BRONZE_LAYER_NAMESPACE\", \"bronze/dms/sales\"]\nsys.argv+=[\"--BRONZE_LAYER_ECOMMERCE_NAMESPACE\", \"bronze/kinesis\"]\nsys.argv+=[\"--SILVER_LAYER_NAMESPACE\", \"silver\"]\nsys.argv+=[\"--JOB_DATE\", \"2023/01/12/18\"]\nsys.argv+=[\"--TABLES\", \"{\\\"store_orders\\\": \\\"currency\\\", \\\"store_customers\\\": \\\"country\\\", \\\"products\\\": \\\"product_category\\\"}\"]\nsys.argv+=[\"--JOIN_COLUMNS_DELTA\", \"{\\\"store_orders\\\": \\\"order_number\\\", \\\"store_customers\\\": \\\"email\\\",  \\\"products\\\": \\\"product_id\\\"}\"]\nsys.argv+=[\"--JOIN_COLUMNS_INCREMENTAL\", \"{\\\"store_orders\\\": \\\"order_number\\\", \\\"store_customers\\\": \\\"email\\\", \\\"products\\\": \\\"product_category\\\"}\"]\nsys.argv+=[\"--CURRENCY_CONVERSION_URL\", \"https://api.exchangerate-api.com/v4/latest/usd\"]\nsys.argv+=[\"--ECOMMERCE_LOGS_BUCKET\", \"aws-analytics-incoming\"]\nsys.argv+=[\"--ECOMMERCE_STREAM_DATE\", \"2023/01/11/23\"]\n\nargs = getResolvedOptions(sys.argv,[\"S3_BUCKET\", \"BRONZE_LAYER_NAMESPACE\", \"BRONZE_LAYER_ECOMMERCE_NAMESPACE\", \"SILVER_LAYER_NAMESPACE\", \"JOB_DATE\", \"TABLES\", \"JOIN_COLUMNS_DELTA\", \"JOIN_COLUMNS_INCREMENTAL\", \"CURRENCY_CONVERSION_URL\", \"ECOMMERCE_LOGS_BUCKET\", \"ECOMMERCE_STREAM_DATE\"])",
			"metadata": {
				"trusted": true
			},
			"execution_count": 2,
			"outputs": [
				{
					"name": "stdout",
					"text": "\n",
					"output_type": "stream"
				}
			]
		},
		{
			"cell_type": "code",
			"source": "currency_conversion_response = urlopen(args['CURRENCY_CONVERSION_URL'])\ncurrency_conversion_json = json.loads(currency_conversion_response.read())",
			"metadata": {
				"trusted": true
			},
			"execution_count": 3,
			"outputs": [
				{
					"name": "stdout",
					"text": "\n",
					"output_type": "stream"
				}
			]
		},
		{
			"cell_type": "code",
			"source": "def get_currency_conversion(currency_conversion_json, currency):\n    return currency_conversion_json['rates'][currency]",
			"metadata": {
				"trusted": true
			},
			"execution_count": 4,
			"outputs": [
				{
					"name": "stdout",
					"text": "\n",
					"output_type": "stream"
				}
			]
		},
		{
			"cell_type": "code",
			"source": "def curate_sales_price(currency, sales_price):\n  if (currency != 'USD'):\n    curated_value = float(sales_price)/float(get_currency_conversion(currency_conversion_json, currency))\n    return float(curated_value)\n  else:\n    return float(sales_price)\ncurate_sales_price_udf = udf(curate_sales_price, FloatType())",
			"metadata": {
				"trusted": true
			},
			"execution_count": 5,
			"outputs": [
				{
					"name": "stdout",
					"text": "\n",
					"output_type": "stream"
				}
			]
		},
		{
			"cell_type": "code",
			"source": "def mask_value(column):\n  mask_value = hashlib.sha256(column.encode()).hexdigest()\n  return mask_value\n\nmask_udf = udf(mask_value, StringType())",
			"metadata": {
				"trusted": true
			},
			"execution_count": 6,
			"outputs": [
				{
					"name": "stdout",
					"text": "\n",
					"output_type": "stream"
				}
			]
		},
		{
			"cell_type": "code",
			"source": "def ip_to_country(ip):\n  ipsplit = ip.split(\".\")\n  ip_number=16777216*int(ipsplit[0]) + 65536*int(ipsplit[1]) + 256*int(ipsplit[2]) + int(ipsplit[3])  \n  return ip_number\n\nip_to_country_udf = udf(ip_to_country, StringType())",
			"metadata": {
				"trusted": true
			},
			"execution_count": 7,
			"outputs": [
				{
					"name": "stdout",
					"text": "\n",
					"output_type": "stream"
				}
			]
		},
		{
			"cell_type": "code",
			"source": "def get_dataframe(BRONZE_TABLE_PATH):\n    try:\n        df_read_data_incremental = spark.read                             \\\n                                            .option(\"header\", \"true\")         \\\n                                            .option(\"inferSchema\", \"true\")    \\\n                                            .csv(BRONZE_TABLE_PATH)\n\n        df_read_data_incremental=curate_columns(df_read_data_incremental)\n        df_read_data_incremental = df_read_data_incremental.drop('Op')\n        df_read_data_incremental.printSchema()\n        df_read_data_incremental.show(10)\n        return df_read_data_incremental\n    except:\n        return 0\n    ",
			"metadata": {
				"trusted": true
			},
			"execution_count": 8,
			"outputs": [
				{
					"name": "stdout",
					"text": "\n",
					"output_type": "stream"
				}
			]
		},
		{
			"cell_type": "code",
			"source": "def merge_to_delta(SILVER_TABLE_PATH, BRONZE_TABLE_PATH, JOB_DATE, JOIN_COLUMN_DELTA, JOIN_COLUMN_INCREMENTAL):\n    DELTA_TABLE_ALIAS=\"delta_table\"\n    INCREMENTAL_TABLE_ALIAS=\"data_incremental\"\n    JOIN_CONDITION=DELTA_TABLE_ALIAS + \".\" + JOIN_COLUMN_DELTA + \"=\" + INCREMENTAL_TABLE_ALIAS + \".\" + JOIN_COLUMN_INCREMENTAL\n    df_read_data_incremental = get_dataframe(BRONZE_TABLE_PATH + \"/\" + JOB_DATE + \"/\" + \"*.csv\")\n    if df_read_data_incremental != 0:\n        deltaTable = DeltaTable.forPath(spark, SILVER_TABLE_PATH)\n        if deltaTable:\n            print(\"Delta table exists\")\n            deltaTable.alias(DELTA_TABLE_ALIAS).merge(\n                    source=df_read_data_incremental.alias(INCREMENTAL_TABLE_ALIAS),\n                    condition=fn.expr(JOIN_CONDITION)) \\\n                    .whenMatchedUpdateAll()            \\\n                    .whenNotMatchedInsertAll()         \\\n                    .execute()",
			"metadata": {
				"trusted": true
			},
			"execution_count": 9,
			"outputs": [
				{
					"name": "stdout",
					"text": "\n",
					"output_type": "stream"
				}
			]
		},
		{
			"cell_type": "code",
			"source": "def merge_data_to_delta(BRONZE_TABLE_PATH, SILVER_TABLE_PATH, JOB_DATE, TABLE, PARTITION_COLUMN, JOIN_COLUMN_DELTA, JOIN_COLUMN_INCREMENTAL):\n    try:   \n        deltaTable = DeltaTable.forPath(spark, SILVER_TABLE_PATH)\n        if deltaTable:\n            print(\"Delta table exists\")\n            merge_to_delta(SILVER_TABLE_PATH, BRONZE_TABLE_PATH, JOB_DATE, JOIN_COLUMN_DELTA, JOIN_COLUMN_INCREMENTAL)\n    except:\n        print(\"Delta table does not exist\")\n        df_read_data_full = get_dataframe(BRONZE_TABLE_PATH + \"/\" + \"LOAD00000001.csv\")\n        df_read_data_full.write.format(\"delta\").save(SILVER_TABLE_PATH)\n        merge_to_delta(SILVER_TABLE_PATH, BRONZE_TABLE_PATH, JOB_DATE, JOIN_COLUMN_DELTA, JOIN_COLUMN_INCREMENTAL)",
			"metadata": {
				"trusted": true
			},
			"execution_count": 10,
			"outputs": [
				{
					"name": "stdout",
					"text": "\n",
					"output_type": "stream"
				}
			]
		},
		{
			"cell_type": "code",
			"source": "def curate_email(email):\n  curated_value = email.lower()\n  return curated_value\n\ncurate_email_udf = udf(curate_email, StringType())",
			"metadata": {
				"trusted": true
			},
			"execution_count": 11,
			"outputs": [
				{
					"name": "stdout",
					"text": "\n",
					"output_type": "stream"
				}
			]
		},
		{
			"cell_type": "code",
			"source": "def curate_country(country):\n  if (country == 'USA' or country == 'United States'):\n    curated_value = 'USA'\n  elif (country == 'UK' or country == 'United Kingdom'):\n    curated_value = 'UK'\n  elif (country == 'CAN' or country == 'Canada'):\n    curated_value = 'CAN'\n  elif (country == 'IND' or country == 'India'):\n    curated_value = 'IND'\n  else:\n    curated_value = country\n  return curated_value\n\ncurate_country_udf = udf(curate_country, StringType())",
			"metadata": {
				"trusted": true
			},
			"execution_count": 12,
			"outputs": [
				{
					"name": "stdout",
					"text": "\n",
					"output_type": "stream"
				}
			]
		},
		{
			"cell_type": "code",
			"source": "def curate_columns(df):\n    if \"order_date\" in df.columns:\n        df = df.withColumn(\"order_date\", to_date(df.order_date,  'MM/dd/yyyy'))\n    if \"updated_at\" in df.columns:\n        df = df.withColumn(\"updated_at\", to_timestamp(df.updated_at,  'yyyy-MM-dd HH:mm:ss')) \n    if \"sale_price\" in df.columns:\n        df = df.withColumn('sale_price_usd',curate_sales_price_udf('currency', 'sale_price'))\n    if \"email\" in df.columns:\n        df = df.withColumn('email_curated',curate_email_udf('email')).drop('email').withColumnRenamed('email_curated', 'email')\n    if \"country\" in df.columns:\n        df = df.withColumn('country_curated',curate_country_udf('country')).drop('country').withColumnRenamed('country_curated', 'country')\n    if \"phone\" in df.columns:\n        df = df.withColumn('phone_masked',mask_udf('phone')).drop('phone').withColumnRenamed('phone_masked', 'phone')\n    if \"credit_card\" in df.columns:\n        df = df.withColumn(\"credit_card\",df.credit_card.cast(StringType()))\n        df = df.withColumn('credit_card_masked',mask_udf('credit_card')).drop('credit_card').withColumnRenamed('credit_card_masked', 'credit_card')\n    if \"address\" in df.columns:\n        df = df.withColumn('address_masked',mask_udf('address')).drop('address').withColumnRenamed('address_masked', 'address')\n    return df",
			"metadata": {
				"trusted": true
			},
			"execution_count": 13,
			"outputs": [
				{
					"name": "stdout",
					"text": "\n",
					"output_type": "stream"
				}
			]
		},
		{
			"cell_type": "code",
			"source": "def flatten(df):\n   # compute Complex Fields (Lists and Structs) in Schema   \n   complex_fields = dict([(field.name, field.dataType)\n                             for field in df.schema.fields\n                             if type(field.dataType) == ArrayType or  type(field.dataType) == StructType])\n   while len(complex_fields)!=0:\n      col_name=list(complex_fields.keys())[0]\n      #print (\"Processing :\"+col_name+\" Type : \"+str(type(complex_fields[col_name])))\n    \n      # if StructType then convert all sub element to columns.\n      # i.e. flatten structs\n      if (type(complex_fields[col_name]) == StructType):\n         expanded = [col(col_name+'.'+k).alias(col_name+'_'+k) for k in [ n.name for n in  complex_fields[col_name]]]\n         df=df.select(\"*\", *expanded).drop(col_name)\n    \n      # if ArrayType then add the Array Elements as Rows using the explode function\n      # i.e. explode Arrays\n      elif (type(complex_fields[col_name]) == ArrayType):    \n         df=df.withColumn(col_name,explode_outer(col_name))\n    \n      # recompute remaining Complex Fields in Schema       \n      complex_fields = dict([(field.name, field.dataType)\n                             for field in df.schema.fields\n                             if type(field.dataType) == ArrayType or  type(field.dataType) == StructType])\n   return df\n",
			"metadata": {},
			"execution_count": null,
			"outputs": []
		},
		{
			"cell_type": "code",
			"source": "TABLE_DICT = json.loads(args['TABLES'])\nJOIN_COLUMNS_DELTA_DICT = json.loads(args['JOIN_COLUMNS_DELTA'])\nJOIN_COLUMNS_INCREMENTAL_DICT = json.loads(args['JOIN_COLUMNS_INCREMENTAL'])\n\nfor TABLE in TABLE_DICT:\n    BRONZE_TABLE_PATH=\"s3a://\" + args['S3_BUCKET'] + \"/\" + args['BRONZE_LAYER_NAMESPACE'] + \"/\" + TABLE\n    SILVER_TABLE_PATH=\"s3a://\" + args['S3_BUCKET'] + \"/\" + args['SILVER_LAYER_NAMESPACE'] + \"/\" + TABLE\n    merge_data_to_delta(BRONZE_TABLE_PATH, SILVER_TABLE_PATH, args['JOB_DATE'], TABLE, TABLE_DICT[TABLE],  JOIN_COLUMNS_DELTA_DICT[TABLE], JOIN_COLUMNS_INCREMENTAL_DICT[TABLE])",
			"metadata": {
				"trusted": true
			},
			"execution_count": 14,
			"outputs": [
				{
					"name": "stdout",
					"text": "Delta table does not exist\nroot\n |-- order_number: integer (nullable = true)\n |-- customer_id: integer (nullable = true)\n |-- product_id: integer (nullable = true)\n |-- order_date: date (nullable = true)\n |-- units: integer (nullable = true)\n |-- sale_price: double (nullable = true)\n |-- currency: string (nullable = true)\n |-- order_mode: string (nullable = true)\n |-- updated_at: timestamp (nullable = true)\n |-- sale_price_usd: float (nullable = true)\n\n+------------+-----------+----------+----------+-----+----------+--------+----------+-------------------+--------------+\n|order_number|customer_id|product_id|order_date|units|sale_price|currency|order_mode|         updated_at|sale_price_usd|\n+------------+-----------+----------+----------+-----+----------+--------+----------+-------------------+--------------+\n|           1|        212|         5|2019-02-03|   10|      11.6|     USD|       NEW|2023-01-12 18:20:59|          11.6|\n|           2|       1940|        10|2020-06-24|    8|     72.31|     USD|       NEW|2023-01-12 18:20:59|         72.31|\n|           3|         60|         6|2019-02-11|    4|     24.82|     INR|       NEW|2023-01-12 18:20:59|     0.3040549|\n|           4|       2776|         6|2018-05-20|    4|     20.91|     USD|       NEW|2023-01-12 18:20:59|         20.91|\n|           5|        409|         9|2019-07-05|    5|     98.41|     INR|       NEW|2023-01-12 18:20:59|     1.2055616|\n|           6|        978|         6|2020-12-16|    1|       6.9|     USD|       NEW|2023-01-12 18:20:59|           6.9|\n|           7|       2904|         6|2021-01-04|    1|     71.56|     EUR|       NEW|2023-01-12 18:20:59|      77.78261|\n|           8|       1269|         3|2018-08-11|    6|     47.67|     USD|       NEW|2023-01-12 18:20:59|         47.67|\n|           9|       2628|         5|2017-01-16|    1|     59.05|     EUR|       NEW|2023-01-12 18:20:59|     64.184784|\n|          10|       1672|         8|2020-08-01|    3|     43.42|     USD|       NEW|2023-01-12 18:20:59|         43.42|\n+------------+-----------+----------+----------+-----+----------+--------+----------+-------------------+--------------+\nonly showing top 10 rows\n\nroot\n |-- order_number: integer (nullable = true)\n |-- customer_id: integer (nullable = true)\n |-- product_id: integer (nullable = true)\n |-- order_date: date (nullable = true)\n |-- units: integer (nullable = true)\n |-- sale_price: double (nullable = true)\n |-- currency: string (nullable = true)\n |-- order_mode: string (nullable = true)\n |-- updated_at: timestamp (nullable = true)\n |-- sale_price_usd: float (nullable = true)\n\n+------------+-----------+----------+----------+-----+----------+--------+----------+-------------------+--------------+\n|order_number|customer_id|product_id|order_date|units|sale_price|currency|order_mode|         updated_at|sale_price_usd|\n+------------+-----------+----------+----------+-----+----------+--------+----------+-------------------+--------------+\n|        2501|        568|         3|2020-04-05|   10|     68.07|     USD|      EDIT|2023-01-12 18:51:44|         68.07|\n|        2502|        825|         4|2017-03-29|    7|     50.44|     INR|      EDIT|2023-01-12 18:51:44|     0.6179101|\n|        2503|        616|        10|2019-07-27|    6|     82.61|     USD|      EDIT|2023-01-12 18:51:44|         82.61|\n|        2504|        606|        10|2018-12-05|    9|     77.29|     EUR|      EDIT|2023-01-12 18:51:44|      84.01087|\n|        2505|        550|         2|2020-06-30|    8|     98.87|     INR|      EDIT|2023-01-12 18:51:44|     1.2111969|\n|        2506|        848|         3|2018-10-28|    2|     41.32|     USD|      EDIT|2023-01-12 18:51:44|         41.32|\n|        2507|        810|         8|2020-11-08|    7|     89.12|     EUR|      EDIT|2023-01-12 18:51:44|      96.86957|\n|        2508|        761|         2|2019-09-10|    2|     91.49|     EUR|      EDIT|2023-01-12 18:51:44|     99.445656|\n|        2509|        918|         8|2019-09-05|    2|     44.68|     CAD|      EDIT|2023-01-12 18:51:44|     33.593987|\n|        2510|        883|        10|2018-01-07|    4|     10.56|     USD|      EDIT|2023-01-12 18:51:44|         10.56|\n+------------+-----------+----------+----------+-----+----------+--------+----------+-------------------+--------------+\nonly showing top 10 rows\n\nDelta table exists\nDelta table does not exist\nroot\n |-- customer_id: integer (nullable = true)\n |-- customer_name: string (nullable = true)\n |-- city: string (nullable = true)\n |-- postalcode: string (nullable = true)\n |-- updated_at: timestamp (nullable = true)\n |-- email: string (nullable = true)\n |-- country: string (nullable = true)\n |-- phone: string (nullable = true)\n |-- credit_card: string (nullable = true)\n |-- address: string (nullable = true)\n\n+-----------+--------------+-----------+----------+-------------------+--------------------+-------+--------------------+--------------------+--------------------+\n|customer_id| customer_name|       city|postalcode|         updated_at|               email|country|               phone|         credit_card|             address|\n+-----------+--------------+-----------+----------+-------------------+--------------------+-------+--------------------+--------------------+--------------------+\n|          1|    Ariel Hale|    College|     98362|2023-01-12 18:20:58|amet.metus@nullat...|    USA|b5dd92eff3d588b48...|0e60b1a0c46e2f4a8...|bad715752fbd90260...|\n|          2| Aubrey Norris| Coldstream|   D10 5JV|2023-01-12 18:20:58|sollicitudin@enim...|     UK|fd4e9edb642956e26...|487ee4019eb121c23...|c7581221e6ecafb90...|\n|          3|  Bruno Hebert| Llangollen|   CE2 4WW|2023-01-12 18:20:58|donec.non@dapibus...|     UK|0f9f96ffbad2f6792...|6ad491149719bded6...|b574810a5bb2d8cbe...|\n|          4|     Ira Lucas| Shreveport|     67365|2023-01-12 18:20:58|      nec@lectus.net|    USA|20222bde4ed443685...|e6541ff49869b0395...|859574d23810fe994...|\n|          5|Hannah Ferrell|Watson Lake|   C6Y 7M3|2023-01-12 18:20:58|nec@orciluctuset....|    CAN|73c857e4eb80dde21...|5b5cdd2d82bfcdcec...|65897909eb6c663ef...|\n|          6|   May Bentley| Chilliwack|   E5R 9R0|2023-01-12 18:20:58|egestas@sedeueros...|    CAN|004ef30cb39b1ede6...|a89dfd1ab0e6dfaf8...|0500ea20e89af55a6...|\n|          7|   Tariq Singh|    Silchar|    968978|2023-01-12 18:20:58|luctus.ut@euismod...|    IND|fae9b624b2a01a809...|fbc2369143f3529ab...|6cce8c6637137eca0...|\n|          8|Serina Serrano|   Auldearn|   K52 0FY|2023-01-12 18:20:58|phasellus.ornare@...|     UK|79cb4c7e194377a10...|e966e4b06e9a7baf3...|e3cdcf9e9dabe3bec...|\n|          9|    Ishrat Raj|     Aizwal|    630461|2023-01-12 18:20:58|consectetuer@eges...|    IND|9ccd97e2e0e3cd3aa...|df2e50aaa07f40a4c...|688e11f0551d28156...|\n|         10|   Nelle Frost|Watson Lake|   K9N 0V4|2023-01-12 18:20:58|sapien.imperdiet@...|    CAN|db693e6d5ab3a2d32...|46455c3ffc4f4a4c7...|258ee2462b43b6e4d...|\n+-----------+--------------+-----------+----------+-------------------+--------------------+-------+--------------------+--------------------+--------------------+\nonly showing top 10 rows\n\nroot\n |-- customer_id: integer (nullable = true)\n |-- customer_name: string (nullable = true)\n |-- city: string (nullable = true)\n |-- postalcode: string (nullable = true)\n |-- updated_at: timestamp (nullable = true)\n |-- email: string (nullable = true)\n |-- country: string (nullable = true)\n |-- phone: string (nullable = true)\n |-- credit_card: string (nullable = true)\n |-- address: string (nullable = true)\n\n+-----------+-----------------+----------------+----------+-------------------+--------------------+-------+--------------------+--------------------+--------------------+\n|customer_id|    customer_name|            city|postalcode|         updated_at|               email|country|               phone|         credit_card|             address|\n+-----------+-----------------+----------------+----------+-------------------+--------------------+-------+--------------------+--------------------+--------------------+\n|       3001|     Adele Newman|      Llanidloes|   W67 8IH|2023-01-12 18:51:44|commodo@pretiumet...|     UK|46e4996257caf6bfe...|e604a587f67fbef8c...|f2b96b19d4010589d...|\n|       3002|Odysseus Guerrero|    Grande Cache|   G0B 0H1|2023-01-12 18:51:44|donec.feugiat.met...|    CAN|34daeeef722fd66c5...|ce014df56aaccc09f...|b193805258a00bb44...|\n|       3003|   Holmes Salinas|West Valley City|     16753|2023-01-12 18:51:44|ante.nunc.mauris@...|    USA|dc99a833917aa055e...|a94461a8d653c0b4e...|c8b1f7656dc2d0931...|\n|       3004|     Asher Benton|        Warspite|   G0W 5S5|2023-01-12 18:51:44|eu.nibh.vulputate...|    CAN|9c271663b643b6fa6...|0acee52105cfcd139...|63d336cd25ebe4927...|\n|       3005|        Shay Love|      Fort Laird|   R5X 5E5|2023-01-12 18:51:44|duis.cursus@mauri...|    CAN|44d5be590a554d584...|19c92a46a924bb199...|c940d47d1529f4941...|\n|       3006|  Sophia Kirkland|      Pontypridd|    M0 6IY|2023-01-12 18:51:44|cras.interdum@tel...|     UK|68200a54db3bdccef...|2c0a8ae59deb460f5...|69034f8975bc50621...|\n|       3007|       Macy Marsh|          Toledo|     62682|2023-01-12 18:51:44|amet@pedeetrisus.edu|    USA|fd7d3c323590b456a...|a225b48697d0b6ece...|c0708a41af46f58c6...|\n|       3008|      Ariel Riggs|         Orlando|     59391|2023-01-12 18:51:44|    eros@urnanec.edu|    USA|90e04aae7dd87f631...|425c16a73954437a6...|b6074262188b13655...|\n|       3009|    Kaye Gallegos|     Blind River|   S5N 5L4|2023-01-12 18:51:44|      ipsum@enim.org|    CAN|9d29a242931e81c6b...|ae72bde88b4c0aadd...|845d6ab439b15a09b...|\n|       3010|        Maya Khan|      Port Blair|    197381|2023-01-12 18:51:44|arcu.sed@fermentu...|    IND|3b7d73e2bb853e145...|fb513376a8afb9779...|ccac04ad44cf18362...|\n+-----------+-----------------+----------------+----------+-------------------+--------------------+-------+--------------------+--------------------+--------------------+\nonly showing top 10 rows\n\nDelta table exists\nDelta table does not exist\nroot\n |-- product_code: integer (nullable = true)\n |-- product_name: string (nullable = true)\n |-- product_category: string (nullable = true)\n |-- updated_at: timestamp (nullable = true)\n\n+------------+--------------+-----------------+-------------------+\n|product_code|  product_name| product_category|         updated_at|\n+------------+--------------+-----------------+-------------------+\n|           1|         Watch|        Wearables|2023-01-12 18:20:58|\n|           2|        Vaccum|    HomeAppliance|2023-01-12 18:20:58|\n|           3|Airconditioner|    HomeAppliance|2023-01-12 18:20:58|\n|           4|     Microwave|    HomeAppliance|2023-01-12 18:20:58|\n|           5|           DVD|HomeEntertainment|2023-01-12 18:20:58|\n|           6|            TV|HomeEntertainment|2023-01-12 18:20:58|\n|           7|      Keyboard|        Computers|2023-01-12 18:20:58|\n|           8|          Mice|        Computers|2023-01-12 18:20:58|\n|           9|       Monitor|        Computers|2023-01-12 18:20:58|\n|          10|        Mobile|           Phones|2023-01-12 18:20:58|\n+------------+--------------+-----------------+-------------------+\n",
					"output_type": "stream"
				}
			]
		},
		{
			"cell_type": "code",
			"source": "IPLOCATION_SCHEMA =[\n    ('ip1', IntegerType()),\n    ('ip2', IntegerType()),\n    ('country_code', StringType()),\n    ('country_name', StringType())\n]\n\nipfields = [StructField(*field) for field in IPLOCATION_SCHEMA]\nschema_iplocation = StructType(ipfields)\n\nIPLOCATION_PATH=\"s3a://\" + args['ECOMMERCE_LOGS_BUCKET'] + \"/\" + \"iplocation/\"\ndf_iplocation = spark.read.csv(IPLOCATION_PATH, schema=schema_iplocation)\ndf_iplocation.registerTempTable('iplocation')\n\nLOGS_SCHEMA =[\n    ('time', StringType()),\n    ('remote_ip', StringType()),\n    ('country_name', StringType()),\n    ('ip_number', IntegerType()),\n    ('request', StringType()),\n    ('response', StringType()),\n    ('agent', StringType())\n]\n\nlogfields = [StructField(*field) for field in LOGS_SCHEMA]\nschema_logs = StructType(logfields)\n\nECOMMERCE_LOGS_PATH=\"s3a://\" + args['ECOMMERCE_LOGS_BUCKET'] + \"/\" + \"ecommerce_logs/\"\ndf_ecommerce_logs = spark.read.json(ECOMMERCE_LOGS_PATH, schema=schema_logs)\ndf_ecommerce_logs = df_ecommerce_logs.withColumn('ip_number',ip_to_country_udf('remote_ip'))\ndf_ecommerce_logs = df_ecommerce_logs.withColumn(\"ip_number_int\", df_ecommerce_logs['ip_number'].cast('int')).drop('ip_number').withColumnRenamed('ip_number_int', 'ip_number')\ndf_ecommerce_logs.registerTempTable('ecommerce')\n\ndf_ecommerce_country = spark.sql(\"SELECT e.time, e.remote_ip, i.country_name, e.ip_number, e.request, e.response, e.agent \" \\\n                                 \" FROM ecommerce e JOIN iplocation i WHERE ip1 <= ip_number AND ip2 >= ip_number\")\n\nECOMM_LOGS_SILVER_TABLE_PATH=\"s3a://\" + args['S3_BUCKET'] + \"/\" + args['SILVER_LAYER_NAMESPACE'] + \"/\" + \"ecommerce_country\"\n\ntry:   \n    deltaTable = DeltaTable.forPath(spark, ECOMM_LOGS_SILVER_TABLE_PATH)\n    if deltaTable:\n        deltaTable.alias(\"logs\").merge(\n             df_ecommerce_country.alias(\"logs_incr\"),\n             \"logs.remote_ip = logs_incr.remote_ip\") \\\n            .whenNotMatchedInsertAll() \\\n            .execute()\n        \nexcept:\n    print(\"Delta table does not exist\")\n    df_ecommerce_country.write.format(\"delta\").save(ECOMM_LOGS_SILVER_TABLE_PATH)",
			"metadata": {
				"trusted": true
			},
			"execution_count": 16,
			"outputs": [
				{
					"name": "stdout",
					"text": "\n",
					"output_type": "stream"
				}
			]
		},
		{
			"cell_type": "code",
			"source": "import pyspark.sql.functions as F\ndef flatten_df(nested_df):\n    flat_cols = [c[0] for c in nested_df.dtypes if c[1][:6] != 'struct']\n    nested_cols = [c[0] for c in nested_df.dtypes if c[1][:6] == 'struct']\n\n    flat_df = nested_df.select(flat_cols +\n                               [F.col(nc+'.'+c).alias(nc+'_'+c)\n                                for nc in nested_cols\n                                for c in nested_df.select(nc+'.*').columns])\n    return flat_df",
			"metadata": {
				"trusted": true
			},
			"execution_count": 29,
			"outputs": [
				{
					"name": "stdout",
					"text": "\n",
					"output_type": "stream"
				}
			]
		},
		{
			"cell_type": "code",
			"source": "#ECOMMERCE_TABLE_PATH=\"s3a://\" + args['S3_BUCKET'] + \"/\" + args['BRONZE_LAYER_ECOMMERCE_NAMESPACE'] + \"/\" + args['ECOMMERCE_STREAM_DATE']\nECOMMERCE_TABLE_PATH=\"s3a://aws-analytics-course/temp/json/eCommStreamDelivery-1-2023-01-11-23-38-31-2b69733f-1123-48cc-95ff-5307e084fcc5\"\ndf_ecommerce = spark.read.json(ECOMMERCE_TABLE_PATH)\ndf_ecommerce=df_ecommerce.select('data')\ndf_ecommerce=flatten_df(df_ecommerce)\ndf_ecommerce.printSchema()\ndf_ecommerce.show()",
			"metadata": {
				"trusted": true
			},
			"execution_count": 32,
			"outputs": [
				{
					"name": "stdout",
					"text": "root\n |-- data_address: string (nullable = true)\n |-- data_city: string (nullable = true)\n |-- data_country: string (nullable = true)\n |-- data_currency: string (nullable = true)\n |-- data_customer_name: string (nullable = true)\n |-- data_email: string (nullable = true)\n |-- data_order_date: string (nullable = true)\n |-- data_order_mode: string (nullable = true)\n |-- data_order_number: string (nullable = true)\n |-- data_phone: string (nullable = true)\n |-- data_postalcode: string (nullable = true)\n |-- data_product_name: string (nullable = true)\n |-- data_sale_price: string (nullable = true)\n\n+--------------------+---------+------------+-------------+------------------+--------------------+---------------+---------------+-----------------+--------------+---------------+-----------------+---------------+\n|        data_address|data_city|data_country|data_currency|data_customer_name|          data_email|data_order_date|data_order_mode|data_order_number|    data_phone|data_postalcode|data_product_name|data_sale_price|\n+--------------------+---------+------------+-------------+------------------+--------------------+---------------+---------------+-----------------+--------------+---------------+-----------------+---------------+\n|Ap #255-3031 Dui ...| Billings|         USA|          EUR|        Julie Rich|Donec.felis@neque...|     18/05/2021|            NEW|              385|1-528-884-4331|          80834|        microwave|          32.34|\n+--------------------+---------+------------+-------------+------------------+--------------------+---------------+---------------+-----------------+--------------+---------------+-----------------+---------------+\n",
					"output_type": "stream"
				}
			]
		},
		{
			"cell_type": "code",
			"source": "df_ecommerce1=spark.read.parquet(\"s3://aws-analytics-course/bronze/kinesis/2023/01/31/02/eCommStreamDelivery-2-2023-01-31-02-38-51-a8696e2c-d14d-4394-97b6-7aa79bb6d616.parquet\")",
			"metadata": {
				"trusted": true
			},
			"execution_count": 33,
			"outputs": [
				{
					"name": "stdout",
					"text": "\n",
					"output_type": "stream"
				}
			]
		},
		{
			"cell_type": "code",
			"source": "df_ecommerce1=flatten_df(df_ecommerce1)\ndf_ecommerce1.show()",
			"metadata": {
				"trusted": true
			},
			"execution_count": 35,
			"outputs": [
				{
					"name": "stdout",
					"text": "+----+--------------+---------------+----------+-----------+------------------+--------------------+-------------+---------------+------------+----------------+--------------------+-----------------+---------------+-------------+---------------+---------------+-----------------+\n|  id|     eventtype|        subject| eventtime|dataversion|data_customer_name|        data_address|    data_city|data_postalcode|data_country|      data_phone|          data_email|data_product_name|data_order_date|data_currency|data_order_mode|data_sale_price|data_order_number|\n+----+--------------+---------------+----------+-----------+------------------+--------------------+-------------+---------------+------------+----------------+--------------------+-----------------+---------------+-------------+---------------+---------------+-----------------+\n|3001|recordInserted|ecomm/customers|2021-01-01|        1.0|        Julie Rich|Ap #255-3031 Dui ...|     Billings|          80834|         USA|  1-528-884-4331|Donec.felis@neque...|        microwave|     18/05/2021|          EUR|            NEW|          32.34|              385|\n|3002|recordInserted|ecomm/customers|2021-01-01|        1.0|     Ratnali Kumar|Ap #476-7527 Aene...|     Bhilwara|         827484|       India|  +91 0952796185|Donec.feugiat@fel...|        microwave|     18/05/2021|          USD|            NEW|          44.45|              386|\n|3003|recordInserted|ecomm/customers|2021-01-01|        1.0|         Eden Byrd|        3840 Sed St.|Milton Keynes|        C4T 5H5|          UK|    00505 931979| lorem@idmagnaet.org|        microwave|     18/05/2021|          USD|            NEW|          64.68|              387|\n|3004|recordInserted|ecomm/customers|2021-01-01|        1.0|      Cara Swanson|P.O. Box 998, 288...|   Harrisburg|          65895|         USA|  1-375-910-8385|velit.justo@lacus...|        microwave|     18/05/2021|          INR|            NEW|          74.65|              388|\n|3005|recordInserted|ecomm/customers|2021-01-01|        1.0|   Chaney Figueroa|546-5675 Pellente...| Newport News|          23276|         USA|  1-853-137-7417|hymenaeos@Suspend...|        microwave|     18/05/2021|          EUR|            NEW|          85.48|              389|\n|3006|recordInserted|ecomm/customers|2021-01-01|        1.0|      Naval Ismail|     3687 Magnis Rd.|     Itanagar|         747675|       India|  +91 6997655593|fringilla.est.Mau...|        microwave|     18/05/2021|          EUR|            NEW|          16.77|              390|\n|3007|recordInserted|ecomm/customers|2021-01-01|        1.0|    Calista French|P.O. Box 462, 559...|    Flin Flon|        H5X 5P1|      Canada| 1 (879) 192-881|Etiam.vestibulum@...|        microwave|     18/05/2021|          USD|            NEW|          17.98|              391|\n|3008|recordInserted|ecomm/customers|2021-01-01|        1.0|        Magee Cash|P.O. Box 728, 323...|   Chesapeake|          46087|         USA|  1-488-816-9178|ultrices.Vivamus@...|        microwave|     18/05/2021|          CAD|            NEW|          94.88|              392|\n|3009|recordInserted|ecomm/customers|2021-01-01|        1.0|     Alvin Russell|P.O. Box 333, 582...|    New Haven|          14867|         USA|  1-117-280-4751|egestas@leoMorbi.com|        microwave|     18/05/2021|          INR|            NEW|          24.98|              393|\n|3010|recordInserted|ecomm/customers|2021-01-01|        1.0|   Chadwick Hebert|  Ap #556-497 In Ave|     Hamilton|        K3W 8V9|      Canada|1 (365) 681-6481|     elit@cursus.org|        microwave|     18/05/2021|          CAD|            NEW|          17.70|              394|\n|3012|recordInserted|ecomm/customers|2021-01-01|        1.0|      Vera Russell|Ap #934-9975 Iacu...| Bognor Regis|        RF1 3IR|          UK|    01717 566325|    sociosqu@dui.org|        microwave|     19/05/2021|          EUR|            NEW|          45.33|              398|\n|3013|recordInserted|ecomm/customers|2021-01-01|        1.0|        Linda Pugh|Ap #598-6303 Cum ...|   Gloucester|        P1P 6B5|      Canada|1 (450) 461-4621|tincidunt@tempuse...|        microwave|     19/05/2021|          CAD|            NEW|          65.32|              399|\n|3014|recordInserted|ecomm/customers|2021-01-01|        1.0|      Brynn Nelson|     7635 Dictum Rd.|       Boston|          75124|         USA|  1-769-479-6047|nonummy.ultricies...|        microwave|     19/05/2021|          USD|            NEW|         105.44|              400|\n|3015|recordInserted|ecomm/customers|2021-01-01|        1.0|       Nelle Moore|     5495 Magna. Ave|     McCallum|        H3K 0A4|      Canada|1 (416) 966-3866|ultrices.a@leo.co.uk|        microwave|     19/05/2021|          CAD|            NEW|          54.33|              401|\n|3016|recordInserted|ecomm/customers|2021-01-01|        1.0|     Ignacia Price|      6009 Ipsum Av.|      Lerwick|         J0 3WK|          UK|    06818 437518|non@facilisisvita...|        microwave|     19/05/2021|          EUR|            NEW|          55.33|              402|\n|3017|recordInserted|ecomm/customers|2021-01-01|        1.0|     Ciara Salinas|758-7308 Mauris. Rd.|   Burlington|          95877|         USA|  1-276-382-6027|ullamcorper.velit...|        microwave|     19/05/2021|          USD|            NEW|          76.29|              403|\n|3018|recordInserted|ecomm/customers|2021-01-01|        1.0|   Beatrice Tucker|  649-7099 Nulla St.|       Oakham|       QE23 6GA|          UK|    04484 843599|ullamcorper.Duis@...|        microwave|     19/05/2021|          EUR|            NEW|          98.11|              404|\n|3019|recordInserted|ecomm/customers|2021-01-01|        1.0|     Brenna Robles|246-3360 Venenati...|    Stratford|        N4R 2M9|      Canada|1 (403) 201-6443|      dui@ligula.edu|        microwave|     19/05/2021|          CAD|            NEW|          90.56|              405|\n|3020|recordInserted|ecomm/customers|2021-01-01|        1.0|   Beverly Tillman|501-9350 Mauris S...|     Jedburgh|       PO3C 0VI|          UK|    07464 422658|tempor.bibendum.D...|        microwave|     19/05/2021|          EUR|            NEW|          17.70|              406|\n|3011|recordInserted|ecomm/customers|2021-01-01|        1.0|  Kenyon Daugherty|      1339 Elit. Ave|   Birmingham|          14456|         USA|  1-236-491-4683|lacus.Mauris@nonu...|        microwave|     19/05/2021|          EUR|            NEW|          17.70|              397|\n+----+--------------+---------------+----------+-----------+------------------+--------------------+-------------+---------------+------------+----------------+--------------------+-----------------+---------------+-------------+---------------+---------------+-----------------+\n",
					"output_type": "stream"
				}
			]
		},
		{
			"cell_type": "code",
			"source": "",
			"metadata": {},
			"execution_count": null,
			"outputs": []
		}
	]
}