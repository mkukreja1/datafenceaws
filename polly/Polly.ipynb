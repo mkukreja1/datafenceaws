{
	"metadata": {
		"kernelspec": {
			"name": "glue_pyspark",
			"display_name": "Glue PySpark",
			"language": "python"
		},
		"language_info": {
			"name": "Python_Glue_Session",
			"mimetype": "text/x-python",
			"codemirror_mode": {
				"name": "python",
				"version": 3
			},
			"pygments_lexer": "python3",
			"file_extension": ".py"
		}
	},
	"nbformat_minor": 4,
	"nbformat": 4,
	"cells": [
		{
			"cell_type": "code",
			"source": "# ------------------------------------------------------------------------------------------------------------------\n# Amazon Polly is a service that turns text into lifelike speech, allowing you to create \n# applications that talk, and build entirely new categories of speech-enabled products. Amazon Polly is a \n# Text-to-Speech service that uses advanced deep learning technologies to synthesize speech that sounds like \n# a human voice.\n# Lets see how to use this Text-to-Speech service.\n# ------------------------------------------------------------------------------------------------------------------",
			"metadata": {},
			"execution_count": null,
			"outputs": []
		},
		{
			"cell_type": "code",
			"source": "# -------------------------------------------------------------------------\n# Import Python Libraries. Press run. \n# -------------------------------------------------------------------------\n\nimport boto3\nimport requests\nimport uuid",
			"metadata": {
				"trusted": true
			},
			"execution_count": null,
			"outputs": []
		},
		{
			"cell_type": "code",
			"source": "# -------------------------------------------------------------------------------------\n# Create the boto3 client for accessing Polly API's, Press run.\n# -------------------------------------------------------------------------------------\n\nclient = boto3.client('polly', region_name='us-east-1')\ns3client = boto3.client('s3', region_name='us-east-1')\ns3 = boto3.resource('s3')",
			"metadata": {
				"trusted": true
			},
			"execution_count": null,
			"outputs": []
		},
		{
			"cell_type": "code",
			"source": "# --------------------------------------------------------------------------------------\n# Let's start by creating a Python funtion that can be used to perform the conversion\n# and save the audio file to S3. Note that we are using the mp3 format for audio files.\n# Press run.\n# --------------------------------------------------------------------------------------",
			"metadata": {},
			"execution_count": null,
			"outputs": []
		},
		{
			"cell_type": "code",
			"source": "def convert_text_to_sound(text, voice, output_format, audio_file):\n    object = s3.Object('aws-analytics-course', audio_file)\n    response = client.synthesize_speech(Text=text, VoiceId=voice, OutputFormat=output_format)\n    body=response['AudioStream'].read()\n    object.put(Body=body)",
			"metadata": {
				"trusted": true
			},
			"execution_count": null,
			"outputs": []
		},
		{
			"cell_type": "code",
			"source": "# --------------------------------------------------------------------------------------\n# Let's perform a simple Text-to-Speech conversion using a female voice. Press run.\n# --------------------------------------------------------------------------------------",
			"metadata": {},
			"execution_count": null,
			"outputs": []
		},
		{
			"cell_type": "code",
			"source": "audio_file='temp/polly/Joanna.mp3'\nobject = s3.Object('aws-analytics-course', audio_file)\n\ntext='This is a test of polly in female voice'\nvoice='Joanna'\noutput_format='mp3'\n\nconvert_text_to_sound(text, voice, output_format, audio_file)",
			"metadata": {
				"trusted": true
			},
			"execution_count": null,
			"outputs": []
		},
		{
			"cell_type": "code",
			"source": "# --------------------------------------------------------------------------------------\n# Now we can listen to the audio file after downloading from S3. Move to next cell after \n# you have been able to download and listen to the audio file. \n# --------------------------------------------------------------------------------------",
			"metadata": {},
			"execution_count": null,
			"outputs": []
		},
		{
			"cell_type": "code",
			"source": "# --------------------------------------------------------------------------------------\n# Now we can perform another test but this time using a Male voice. Highlight next cell \n# and Press run.\n# --------------------------------------------------------------------------------------",
			"metadata": {},
			"execution_count": null,
			"outputs": []
		},
		{
			"cell_type": "code",
			"source": "audio_file='temp/polly/Matthew.mp3'\nobject = s3.Object('aws-analytics-course', audio_file)\n\ntext='This is a test of polly in male voice'\nvoice='Matthew'\noutput_format='mp3'\n\nconvert_text_to_sound(text, voice, output_format, audio_file)",
			"metadata": {
				"trusted": true
			},
			"execution_count": null,
			"outputs": []
		},
		{
			"cell_type": "code",
			"source": "# --------------------------------------------------------------------------------------\n# Now we can listen to the audio file after downloading from S3. Move to next cell after \n# you have been able to download and listen to the audio file. \n# --------------------------------------------------------------------------------------",
			"metadata": {},
			"execution_count": null,
			"outputs": []
		},
		{
			"cell_type": "code",
			"source": "# --------------------------------------------------------------------------------------------------------\n# We can also use the the SSML-enhanced input text feature with Polly. SSML-enhanced input \n# text gives you additional control over how Amazon Polly generates speech from the text you provide.\n# For example, you can include a long pause within your text, or change the speech rate or pitch. \n# --------------------------------------------------------------------------------------------------------",
			"metadata": {},
			"execution_count": null,
			"outputs": []
		},
		{
			"cell_type": "code",
			"source": "audio_file='temp/polly/Kendra.mp3'\nobject = s3.Object('aws-analytics-course', audio_file)\n\nssml_text = '''\n<speak>\nI really want to share something with you.\n<break time=\"1s\" />\n<amazon:effect name=\"whispered\">You are looking gorgeous today!</amazon:effect>\n</speak>\n'''\nresponse = client.synthesize_speech(OutputFormat='mp3', VoiceId='Kendra',TextType='ssml', Text=ssml_text)\nbody=response['AudioStream'].read()\nobject.put(Body=body)",
			"metadata": {
				"trusted": true
			},
			"execution_count": null,
			"outputs": []
		},
		{
			"cell_type": "code",
			"source": "# ----------------------------------------------------------------------------------------------------------\n# The possibilities with Polly are exciting. Mpre and more organizations are finding new ways to use this \n# technology to their advantage. I hope you found this information both informative and useful. Amazon \n# Polly is covered in more detail in the AWS Big Data Specialty training. \n# ----------------------------------------------------------------------------------------------------------",
			"metadata": {},
			"execution_count": null,
			"outputs": []
		}
	]
}